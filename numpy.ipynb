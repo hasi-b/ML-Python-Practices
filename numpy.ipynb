{
  "nbformat": 4,
  "nbformat_minor": 0,
  "metadata": {
    "colab": {
      "name": "numpy.ipynb",
      "provenance": [],
      "collapsed_sections": [],
      "mount_file_id": "1OIA85Gtz8umNXZt8hu16Gm0WxoEdm2cE",
      "authorship_tag": "ABX9TyN85QP9yfa2O4nDBPIWTeeq",
      "include_colab_link": true
    },
    "kernelspec": {
      "name": "python3",
      "display_name": "Python 3"
    }
  },
  "cells": [
    {
      "cell_type": "markdown",
      "metadata": {
        "id": "view-in-github",
        "colab_type": "text"
      },
      "source": [
        "<a href=\"https://colab.research.google.com/github/hasi-b/ML-Python-Practices/blob/main/numpy.ipynb\" target=\"_parent\"><img src=\"https://colab.research.google.com/assets/colab-badge.svg\" alt=\"Open In Colab\"/></a>"
      ]
    },
    {
      "cell_type": "code",
      "metadata": {
        "colab": {
          "base_uri": "https://localhost:8080/"
        },
        "id": "YHNw6DGv-D6O",
        "outputId": "9682e3d0-328d-4318-c6f8-b90b36948e42"
      },
      "source": [
        "import numpy as np\r\n",
        "\r\n",
        "######BASIC##########\r\n",
        "\r\n",
        "a = np.array([1,2,3]) #1d array\r\n",
        "print(a)\r\n",
        "b = np.array([[4.2,3.2,5.2],[5.1,4.6,8.4]])\r\n",
        "print(b)\r\n",
        "ND= a.ndim #number of dimensions\r\n",
        "print(\"Number of dimensions of A is {}\".format(ND))\r\n",
        "ND = b.ndim #number of dimensions\r\n",
        "print(\"Number of dimensions of B is \"+ str(ND)) #casting int ND to string\r\n",
        "a.shape #shape of array\r\n",
        "b.shape #shape of array\r\n",
        "print(\"data type of a \"+ str(a.dtype))\r\n",
        "print(\"data type of b \"+str(b.dtype))\r\n",
        "print(\"size of a \"+str(a.size))\r\n",
        "print(\"size of b \"+str(b.size))\r\n",
        "print(\"size of each item of a \"+str(a.itemsize))\r\n",
        "print(\"size of each item of b \"+str(b.itemsize))\r\n",
        "print(\"size of total array a \"+str(a.nbytes)) ## a.itemsize*a.size\r\n",
        "print(\"size of total array b \"+str(b.nbytes)) ## b.itemsize*b.size\r\n",
        "\r\n",
        "########ACCESSING CHANGING COLUMNS##########\r\n",
        "\r\n"
      ],
      "execution_count": 74,
      "outputs": [
        {
          "output_type": "stream",
          "text": [
            "[1 2 3]\n",
            "[[4.2 3.2 5.2]\n",
            " [5.1 4.6 8.4]]\n",
            "Number of dimensions of A is 1\n",
            "Number of dimensions of B is 2\n",
            "data type of a int64\n",
            "data type of b float64\n",
            "size of a 3\n",
            "size of b 6\n",
            "size of each item of a 8\n",
            "size of each item of b 8\n",
            "size of total array a 24\n",
            "size of total array b 48\n"
          ],
          "name": "stdout"
        }
      ]
    },
    {
      "cell_type": "code",
      "metadata": {
        "id": "IVOvDEypATwA"
      },
      "source": [
        ""
      ],
      "execution_count": null,
      "outputs": []
    }
  ]
}